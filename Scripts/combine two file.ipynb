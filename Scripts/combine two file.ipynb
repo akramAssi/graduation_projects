{
 "cells": [
  {
   "cell_type": "code",
   "execution_count": 2,
   "id": "entire-management",
   "metadata": {},
   "outputs": [],
   "source": [
    "import pandas as pd\n",
    "all_filenames=[\"/Users/macbookpro/Desktop/For Graduation/T12.xlsx\",\"/Users/macbookpro/Desktop/For Graduation/mercedes.xlsx\"]\n",
    "combined_excel = pd.concat([pd.read_excel(f) for f in all_filenames ])\n",
    "#export to excel\n",
    "combined_excel.to_excel( \"Data(party).xlsx\", index=False, encoding='utf-8')"
   ]
  }
 ],
 "metadata": {
  "kernelspec": {
   "display_name": "Python 3",
   "language": "python",
   "name": "python3"
  },
  "language_info": {
   "codemirror_mode": {
    "name": "ipython",
    "version": 3
   },
   "file_extension": ".py",
   "mimetype": "text/x-python",
   "name": "python",
   "nbconvert_exporter": "python",
   "pygments_lexer": "ipython3",
   "version": "3.8.2"
  }
 },
 "nbformat": 4,
 "nbformat_minor": 5
}
