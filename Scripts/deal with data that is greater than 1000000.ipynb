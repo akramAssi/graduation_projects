{
 "cells": [
  {
   "cell_type": "code",
   "execution_count": 1,
   "id": "sunrise-quantity",
   "metadata": {},
   "outputs": [],
   "source": [
    "import  pandas as pd\n",
    "from numpy import nan"
   ]
  },
  {
   "cell_type": "code",
   "execution_count": 2,
   "id": "protecting-secondary",
   "metadata": {},
   "outputs": [
    {
     "name": "stdout",
     "output_type": "stream",
     "text": [
      "CPU times: user 541 ms, sys: 69 ms, total: 610 ms\n",
      "Wall time: 611 ms\n"
     ]
    },
    {
     "name": "stderr",
     "output_type": "stream",
     "text": [
      "<decorator-gen-54>:2: DtypeWarning: Columns (10) have mixed types.Specify dtype option on import or set low_memory=False.\n"
     ]
    }
   ],
   "source": [
    "%%time\n",
    "df=pd.read_csv(\"/Users/macbookpro/Desktop/For Graduation/Data22.csv\")"
   ]
  },
  {
   "cell_type": "code",
   "execution_count": 3,
   "id": "inclusive-internet",
   "metadata": {},
   "outputs": [],
   "source": [
    "def  DivideNumberby10(Data):\n",
    "    Count=0\n",
    "    for row in range(0,df.shape[0]):\n",
    "        edit_string = Data.at[row,'Kilometers']\n",
    "        if edit_string.item() >= 1000000:\n",
    "#             print(edit_string.item())\n",
    "#             print(type(edit_string))\n",
    "            numbers = (edit_string.item()/10)\n",
    "            Data.at[row,'Kilometers'] = round(numbers)\n",
    "            Count = Count + 1\n",
    "            \n",
    "            \n",
    "    print(\"The number of Row affected is ----> \", Count )    \n"
   ]
  },
  {
   "cell_type": "code",
   "execution_count": 4,
   "id": "foster-provincial",
   "metadata": {},
   "outputs": [
    {
     "name": "stdout",
     "output_type": "stream",
     "text": [
      "The number of Row affected is ---->  1235\n"
     ]
    }
   ],
   "source": [
    "DivideNumberby10(df)"
   ]
  },
  {
   "cell_type": "code",
   "execution_count": 5,
   "id": "yellow-monitor",
   "metadata": {},
   "outputs": [],
   "source": [
    "df.to_excel(\"Data24.xlsx\")"
   ]
  }
 ],
 "metadata": {
  "kernelspec": {
   "display_name": "Python 3",
   "language": "python",
   "name": "python3"
  },
  "language_info": {
   "codemirror_mode": {
    "name": "ipython",
    "version": 3
   },
   "file_extension": ".py",
   "mimetype": "text/x-python",
   "name": "python",
   "nbconvert_exporter": "python",
   "pygments_lexer": "ipython3",
   "version": "3.8.2"
  }
 },
 "nbformat": 4,
 "nbformat_minor": 5
}
