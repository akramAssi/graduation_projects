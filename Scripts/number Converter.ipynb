{
 "cells": [
  {
   "cell_type": "code",
   "execution_count": 1,
   "id": "alpha-consideration",
   "metadata": {},
   "outputs": [],
   "source": [
    "import convert_numbers\n",
    "import pandas as pd"
   ]
  },
  {
   "cell_type": "code",
   "execution_count": 2,
   "id": "acoustic-client",
   "metadata": {},
   "outputs": [],
   "source": [
    "df = pd.read_excel(\"/Users/macbookpro/Desktop/For Graduation/Data20.xlsx\")"
   ]
  },
  {
   "cell_type": "code",
   "execution_count": null,
   "id": "coupled-bonus",
   "metadata": {},
   "outputs": [],
   "source": [
    "def  Replace_Arabic_number(Data):\n",
    "    Count=0\n",
    "    for row in range(0,df.shape[0]):\n",
    "        edit_string = Data.at[row,'Kilometers']\n",
    "        if type(edit_string) != float:\n",
    "            print(type(edit_string))\n",
    "#             numbers=convert_numbers.arabic_to_english(edit_string)\n",
    "#             Data.at[row,'Kilometers'] = numbers\n",
    "            Count = Count + 1\n",
    "            \n",
    "            \n",
    "    print(\"The number of Row affected is ----> \", Count )    \n"
   ]
  },
  {
   "cell_type": "code",
   "execution_count": null,
   "id": "dangerous-jenny",
   "metadata": {},
   "outputs": [],
   "source": [
    "Replace_Arabic_number(df)"
   ]
  },
  {
   "cell_type": "code",
   "execution_count": 3,
   "id": "fantastic-brook",
   "metadata": {},
   "outputs": [],
   "source": [
    "df.to_csv(\"Data21.csv\")"
   ]
  }
 ],
 "metadata": {
  "kernelspec": {
   "display_name": "Python 3",
   "language": "python",
   "name": "python3"
  },
  "language_info": {
   "codemirror_mode": {
    "name": "ipython",
    "version": 3
   },
   "file_extension": ".py",
   "mimetype": "text/x-python",
   "name": "python",
   "nbconvert_exporter": "python",
   "pygments_lexer": "ipython3",
   "version": "3.8.2"
  }
 },
 "nbformat": 4,
 "nbformat_minor": 5
}
