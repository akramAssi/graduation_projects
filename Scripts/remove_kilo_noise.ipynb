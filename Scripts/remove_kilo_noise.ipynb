{
 "cells": [
  {
   "cell_type": "code",
   "execution_count": 1,
   "metadata": {},
   "outputs": [],
   "source": [
    "import pandas as pd\n",
    "df=pd.read_excel(\"/Users/macbookpro/Desktop/For Graduation/T7.xlsx\")"
   ]
  },
  {
   "cell_type": "code",
   "execution_count": null,
   "metadata": {},
   "outputs": [],
   "source": [
    "list_noise =\"الف \""
   ]
  },
  {
   "cell_type": "code",
   "execution_count": null,
   "metadata": {},
   "outputs": [],
   "source": [
    "if  list_noise  in \"100 ألف كيلو \" :\n",
    "    print(\"ok\")\n",
    "else:\n",
    "    print(\"no\")"
   ]
  },
  {
   "cell_type": "code",
   "execution_count": 5,
   "metadata": {},
   "outputs": [],
   "source": [
    "import re"
   ]
  },
  {
   "cell_type": "code",
   "execution_count": 6,
   "metadata": {},
   "outputs": [],
   "source": [
    "def Replacemant(Data,name):\n",
    "    Li = []\n",
    "    count=0\n",
    "    max_len=0\n",
    "    list_max=-1\n",
    "    for row in range(0,df.shape[0]):\n",
    "        edit_string = Data.at[row,'Kilometers']\n",
    "        if  type(edit_string) == str:\n",
    "            if edit_string.isdigit()\n",
    "            count = count + 1\n",
    "            Li.append(edit_string)\n",
    "#             if  \"km\" in edit_string:\n",
    "#                 Count= Count + 1\n",
    "#                 numbers = re.findall(\"[-+]?[.]?[\\d]+(?:,\\d\\d\\d)*[\\.]?\\d*(?:[eE][-+]?\\d+)?\", edit_string)\n",
    "#                 print(len(numbers),type(numbers[0]),numbers[0],\"this or \",edit_string)\n",
    "# #                 Data.at[row,'Kilometers']=numbers[0]\n",
    "#                 # l_len = len(numbers)\n",
    "#                 # if l_len>max_len:\n",
    "                #     max_len=l_len\n",
    "                #     list_max=(edit_string)\n",
    "\n",
    "    print(\"The Change was affect (\" , count , \") Rows\" ,max_len,list_max)\n",
    "    return Li\n"
   ]
  },
  {
   "cell_type": "markdown",
   "metadata": {},
   "source": [
    "Replacemant(df,\"\")"
   ]
  },
  {
   "cell_type": "code",
   "execution_count": 7,
   "metadata": {},
   "outputs": [
    {
     "name": "stdout",
     "output_type": "stream",
     "text": [
      "The Change was affect ( 135950 ) Rows 0 -1\n"
     ]
    }
   ],
   "source": [
    "AAA = Replacemant(df,\"R\")"
   ]
  },
  {
   "cell_type": "code",
   "execution_count": null,
   "metadata": {},
   "outputs": [],
   "source": [
    "type(df.at[20,\"Kilometers\"])"
   ]
  },
  {
   "cell_type": "code",
   "execution_count": null,
   "metadata": {},
   "outputs": [],
   "source": [
    "list_naser0=['0',\" 00 \", ' ٠٠ ', ' 000 ', ' 0000 ', ' 0000))) ', ' 00000 ', ' 000000 ', ' 0000000 ', ' 00000000 ', ' ٠٠٠٠٠٠٠٠ ', ' 000000000 ', ' 0000000000 ', ' 0000000000000000']"
   ]
  },
  {
   "cell_type": "code",
   "execution_count": null,
   "metadata": {},
   "outputs": [],
   "source": [
    "my_list=[\"0\",\"00\",\" ٠٠\",\"000\",\"0000\",\"00000\",\"000000\",\"0000000\",\"00000000\",\"٠٠٠٠٠٠٠٠\",\"000000000\",\"0000000000\",\"0000000000000000\"]"
   ]
  },
  {
   "cell_type": "code",
   "execution_count": null,
   "metadata": {},
   "outputs": [],
   "source": [
    "'0000000000000000' in my_list"
   ]
  },
  {
   "cell_type": "code",
   "execution_count": null,
   "metadata": {},
   "outputs": [],
   "source": []
  },
  {
   "cell_type": "code",
   "execution_count": null,
   "metadata": {},
   "outputs": [],
   "source": [
    "if   '000'  ==  list_naser0[3]:\n",
    "    print(\"ok\")\n",
    "else:\n",
    "    print(list_naser0[3])\n",
    "print(type('000' ))"
   ]
  },
  {
   "cell_type": "code",
   "execution_count": 34,
   "metadata": {},
   "outputs": [],
   "source": [
    "df.to_excel(\"T6_akram.xlsx\")"
   ]
  },
  {
   "cell_type": "code",
   "execution_count": 14,
   "metadata": {},
   "outputs": [],
   "source": [
    "df.to_excel(\"T7.xlsx\")"
   ]
  },
  {
   "cell_type": "code",
   "execution_count": 13,
   "metadata": {},
   "outputs": [
    {
     "name": "stdout",
     "output_type": "stream",
     "text": [
      "<class 'pandas.core.frame.DataFrame'>\n",
      "RangeIndex: 208857 entries, 0 to 208856\n",
      "Data columns (total 24 columns):\n",
      " #   Column            Non-Null Count   Dtype \n",
      "---  ------            --------------   ----- \n",
      " 0   car_name          208857 non-null  object\n",
      " 1   year              208857 non-null  int64 \n",
      " 2   price             208857 non-null  int64 \n",
      " 3   color             208857 non-null  object\n",
      " 4   fuel              208857 non-null  object\n",
      " 5   history           208857 non-null  object\n",
      " 6   gear              208857 non-null  object\n",
      " 7   engine_size       208857 non-null  int64 \n",
      " 8   Kilometers        136371 non-null  object\n",
      " 9   owners            155114 non-null  object\n",
      " 10  ad_date           208857 non-null  object\n",
      " 11  notes             153564 non-null  object\n",
      " 12  passengers        181635 non-null  object\n",
      " 13  payment_method    208857 non-null  object\n",
      " 14  windows           208857 non-null  object\n",
      " 15  url               208857 non-null  object\n",
      " 16  alarm             208857 non-null  int64 \n",
      " 17  ac                208857 non-null  int64 \n",
      " 18  radio_cd          208857 non-null  int64 \n",
      " 19  sunroof           208857 non-null  int64 \n",
      " 20  leatherـchair     208857 non-null  int64 \n",
      " 21  centralـLock      208857 non-null  int64 \n",
      " 22  magnesium_wheels  208857 non-null  int64 \n",
      " 23  air_bag           208857 non-null  int64 \n",
      "dtypes: int64(11), object(13)\n",
      "memory usage: 38.2+ MB\n"
     ]
    }
   ],
   "source": [
    "df.info()"
   ]
  },
  {
   "cell_type": "code",
   "execution_count": null,
   "metadata": {
    "tags": []
   },
   "outputs": [],
   "source": [
    "count0=0\n",
    "for row in range(0,df.shape[0]):\n",
    "    value =df.at[row,\"Kilometers\"]\n",
    "    if  type(value)==str:\n",
    "        value =value.strip()\n",
    "        if  value in my_list :\n",
    "            year= df.at[row,\"year\"]\n",
    "            hand=  df.at[row,\"owners\"]\n",
    "            if  value == 0:\n",
    "                count0=count0+1\n",
    "                \n",
    "print(count0)"
   ]
  },
  {
   "cell_type": "code",
   "execution_count": 15,
   "metadata": {},
   "outputs": [],
   "source": [
    "sd=pd.DataFrame(list(set(df.Kilometers.tolist())))\n",
    "sd.to_excel(\"kiloCat.xlsx\")"
   ]
  },
  {
   "cell_type": "code",
   "execution_count": 8,
   "metadata": {},
   "outputs": [],
   "source": [
    "sd=pd.DataFrame(list(set(AAA)))\n",
    "sd.to_excel(\"kiloCat1.xlsx\")"
   ]
  }
 ],
 "metadata": {
  "kernelspec": {
   "display_name": "Python 3",
   "language": "python",
   "name": "python3"
  },
  "language_info": {
   "codemirror_mode": {
    "name": "ipython",
    "version": 3
   },
   "file_extension": ".py",
   "mimetype": "text/x-python",
   "name": "python",
   "nbconvert_exporter": "python",
   "pygments_lexer": "ipython3",
   "version": "3.8.2"
  }
 },
 "nbformat": 4,
 "nbformat_minor": 2
}
